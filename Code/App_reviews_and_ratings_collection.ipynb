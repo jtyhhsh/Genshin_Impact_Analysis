{
 "cells": [
  {
   "cell_type": "markdown",
   "id": "c3c7b17e",
   "metadata": {},
   "source": [
    "Note: I collected the data in April, 7th. "
   ]
  },
  {
   "cell_type": "code",
   "execution_count": null,
   "id": "0773a834",
   "metadata": {},
   "outputs": [],
   "source": [
    "# !pip install google_play_scraper \n",
    "from google_play_scraper import app\n",
    "\n",
    "result = app(\n",
    "    'com.miHoYo.GenshinImpact',\n",
    "    lang='en', # defaults to 'en'\n",
    "    country='us' # defaults to 'us'\n",
    ")"
   ]
  },
  {
   "cell_type": "code",
   "execution_count": null,
   "id": "4293b29a",
   "metadata": {},
   "outputs": [],
   "source": [
    "from google_play_scraper import Sort, reviews\n",
    "\n",
    "result, continuation_token = reviews(\n",
    "    'com.miHoYo.GenshinImpact',\n",
    "    lang='en', # defaults to 'en'\n",
    "    country='us', # defaults to 'us'\n",
    "    sort=Sort.NEWEST, # defaults to Sort.NEWEST\n",
    "    count= 4000)\n",
    "\n",
    "\n",
    "result, _ = reviews(\n",
    "    'com.miHoYo.GenshinImpact',\n",
    "    continuation_token = continuation_token # defaults to None(load from the beginning)\n",
    ")"
   ]
  },
  {
   "cell_type": "code",
   "execution_count": null,
   "id": "7229e247",
   "metadata": {},
   "outputs": [],
   "source": [
    "reviews = []; rating = []\n",
    "for item in result: \n",
    "    reviews.append(item['content'])\n",
    "    rating.append(item['score'])"
   ]
  },
  {
   "cell_type": "code",
   "execution_count": null,
   "id": "9c1563bd",
   "metadata": {},
   "outputs": [],
   "source": [
    "import pandas as pd\n",
    "google_df = pd.DataFrame()\n",
    "google_df['content'] = reviews\n",
    "google_df['score'] = rating\n",
    "google_df.to_csv('google_play.csv', index=False)"
   ]
  },
  {
   "cell_type": "code",
   "execution_count": null,
   "id": "b2cae641",
   "metadata": {},
   "outputs": [],
   "source": [
    "# apple store\n",
    "import pandas as pd\n",
    "import numpy as np\n",
    "import json\n",
    "\n",
    "from app_store_scraper import AppStore\n",
    "genshin = AppStore(country='us', app_name='genshin-impact', app_id = '1517783697')\n",
    "genshin.review(how_many = 4000)"
   ]
  },
  {
   "cell_type": "code",
   "execution_count": null,
   "id": "50fc3afc",
   "metadata": {},
   "outputs": [],
   "source": [
    "apple_reviews = []; apple_rating = []\n",
    "for item in genshin.reviews: \n",
    "    apple_reviews.append(item['review'])\n",
    "    apple_rating.append(item['rating'])\n",
    "apple_df = pd.DataFrame()\n",
    "apple_df['content'] = apple_reviews\n",
    "apple_df['score'] = apple_rating\n",
    "apple_df.to_csv('apple_store.csv',  index=False)"
   ]
  }
 ],
 "metadata": {
  "kernelspec": {
   "display_name": "Python 3 (ipykernel)",
   "language": "python",
   "name": "python3"
  },
  "language_info": {
   "codemirror_mode": {
    "name": "ipython",
    "version": 3
   },
   "file_extension": ".py",
   "mimetype": "text/x-python",
   "name": "python",
   "nbconvert_exporter": "python",
   "pygments_lexer": "ipython3",
   "version": "3.9.12"
  }
 },
 "nbformat": 4,
 "nbformat_minor": 5
}
